{
  "nbformat": 4,
  "nbformat_minor": 0,
  "metadata": {
    "colab": {
      "provenance": []
    },
    "kernelspec": {
      "name": "python3",
      "display_name": "Python 3"
    },
    "language_info": {
      "name": "python"
    }
  },
  "cells": [
    {
      "cell_type": "code",
      "execution_count": 1,
      "metadata": {
        "colab": {
          "base_uri": "https://localhost:8080/"
        },
        "id": "RobMUp56KzJN",
        "outputId": "9a695650-1f62-4083-8811-842bd792c2cd"
      },
      "outputs": [
        {
          "output_type": "stream",
          "name": "stdout",
          "text": [
            "Obstacle detected. Please be careful.\n",
            "Obstacle detected. Please be careful.\n",
            "Obstacle detected. Please be careful.\n",
            "Obstacle detected. Please be careful.\n",
            "Obstacle detected. Please be careful.\n",
            "Obstacle detected. Please be careful.\n",
            "Obstacle detected. Please be careful.\n",
            "Obstacle detected. Please be careful.\n",
            "Navigation stopped.\n"
          ]
        }
      ],
      "source": [
        "import time\n",
        "import random\n",
        "\n",
        "# --- Simulated Sensor Data ---\n",
        "def get_distance():\n",
        "    \"\"\"Simulates distance reading from ultrasonic sensor.\"\"\"\n",
        "    distance = random.randint(10, 100)\n",
        "    return distance\n",
        "\n",
        "def get_location():\n",
        "    \"\"\"Simulates location data from GPS.\"\"\"\n",
        "    latitude = random.uniform(37.7749, 37.7751)\n",
        "    longitude = random.uniform(-122.4194, -122.4192)\n",
        "    return latitude, longitude\n",
        "\n",
        "# --- Navigation Logic ---\n",
        "def navigate():\n",
        "    \"\"\"Main navigation loop.\"\"\"\n",
        "    while True:\n",
        "        distance = get_distance()\n",
        "        if distance < 30:\n",
        "            print(\"Obstacle detected. Please be careful.\")\n",
        "\n",
        "        latitude, longitude = get_location()\n",
        "        # ... (Logic to compare location with landmarks and provide directions)\n",
        "\n",
        "        time.sleep(0.5)\n",
        "\n",
        "# --- Main Execution ---\n",
        "if __name__ == \"__main__\":\n",
        "    try:\n",
        "        navigate()\n",
        "    except KeyboardInterrupt:\n",
        "        print(\"Navigation stopped.\")"
      ]
    }
  ]
}